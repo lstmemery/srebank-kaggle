{
 "cells": [
  {
   "cell_type": "markdown",
   "metadata": {},
   "source": [
    "Credit to https://www.kaggle.com/bguberfain/naive-xgb-lb-0-317"
   ]
  },
  {
   "cell_type": "code",
   "execution_count": 153,
   "metadata": {
    "collapsed": false
   },
   "outputs": [
    {
     "ename": "ModuleNotFoundError",
     "evalue": "No module named 'hyperopt'",
     "output_type": "error",
     "traceback": [
      "\u001b[0;31m---------------------------------------------------------------------------\u001b[0m",
      "\u001b[0;31mModuleNotFoundError\u001b[0m                       Traceback (most recent call last)",
      "\u001b[0;32m<ipython-input-153-8c08ba1c9927>\u001b[0m in \u001b[0;36m<module>\u001b[0;34m()\u001b[0m\n\u001b[1;32m      9\u001b[0m \u001b[0;32mfrom\u001b[0m \u001b[0msklearn\u001b[0m\u001b[0;34m.\u001b[0m\u001b[0mmodel_selection\u001b[0m \u001b[0;32mimport\u001b[0m \u001b[0mcross_val_score\u001b[0m\u001b[0;34m,\u001b[0m \u001b[0mtrain_test_split\u001b[0m\u001b[0;34m\u001b[0m\u001b[0m\n\u001b[1;32m     10\u001b[0m \u001b[0;32mfrom\u001b[0m \u001b[0mscikitplot\u001b[0m \u001b[0;32mimport\u001b[0m \u001b[0mplotters\u001b[0m \u001b[0;32mas\u001b[0m \u001b[0mskplt\u001b[0m\u001b[0;34m\u001b[0m\u001b[0m\n\u001b[0;32m---> 11\u001b[0;31m \u001b[0;32mfrom\u001b[0m \u001b[0mhyperopt\u001b[0m \u001b[0;32mimport\u001b[0m \u001b[0mfmin\u001b[0m\u001b[0;34m,\u001b[0m \u001b[0mtpe\u001b[0m\u001b[0;34m,\u001b[0m \u001b[0mhp\u001b[0m\u001b[0;34m,\u001b[0m \u001b[0mSTATUS_OK\u001b[0m\u001b[0;34m,\u001b[0m \u001b[0mTrials\u001b[0m\u001b[0;34m\u001b[0m\u001b[0m\n\u001b[0m\u001b[1;32m     12\u001b[0m \u001b[0;34m\u001b[0m\u001b[0m\n\u001b[1;32m     13\u001b[0m \u001b[0mget_ipython\u001b[0m\u001b[0;34m(\u001b[0m\u001b[0;34m)\u001b[0m\u001b[0;34m.\u001b[0m\u001b[0mmagic\u001b[0m\u001b[0;34m(\u001b[0m\u001b[0;34m'matplotlib inline'\u001b[0m\u001b[0;34m)\u001b[0m\u001b[0;34m\u001b[0m\u001b[0m\n",
      "\u001b[0;31mModuleNotFoundError\u001b[0m: No module named 'hyperopt'"
     ]
    }
   ],
   "source": [
    "import numpy as np\n",
    "import pandas as pd\n",
    "import xgboost as xgb\n",
    "import sklearn as sk\n",
    "import sklearn.preprocessing as skp\n",
    "import sklearn.metrics as skm\n",
    "import matplotlib.pyplot as plt\n",
    "from datetime import datetime\n",
    "from sklearn.model_selection import cross_val_score, train_test_split\n",
    "\n",
    "%matplotlib inline"
   ]
  },
  {
   "cell_type": "code",
   "execution_count": 3,
   "metadata": {
    "collapsed": true
   },
   "outputs": [],
   "source": [
    "# From here: https://www.kaggle.com/robertoruiz/sberbank-russian-housing-market/dealing-with-multicollinearity/notebook\n",
    "macro_cols = [\"balance_trade\", \"balance_trade_growth\", \"eurrub\", \"average_provision_of_build_contract\",\n",
    "\"micex_rgbi_tr\", \"micex_cbi_tr\", \"deposits_rate\", \"mortgage_value\", \"mortgage_rate\",\n",
    "\"income_per_cap\", \"rent_price_4+room_bus\", \"museum_visitis_per_100_cap\", \"apartment_build\"]"
   ]
  },
  {
   "cell_type": "code",
   "execution_count": 17,
   "metadata": {
    "collapsed": false
   },
   "outputs": [
    {
     "data": {
      "text/html": [
       "<div>\n",
       "<table border=\"1\" class=\"dataframe\">\n",
       "  <thead>\n",
       "    <tr style=\"text-align: right;\">\n",
       "      <th></th>\n",
       "      <th>id</th>\n",
       "      <th>timestamp</th>\n",
       "      <th>full_sq</th>\n",
       "      <th>life_sq</th>\n",
       "      <th>floor</th>\n",
       "      <th>max_floor</th>\n",
       "      <th>material</th>\n",
       "      <th>build_year</th>\n",
       "      <th>num_room</th>\n",
       "      <th>kitch_sq</th>\n",
       "      <th>...</th>\n",
       "      <th>cafe_count_5000_price_2500</th>\n",
       "      <th>cafe_count_5000_price_4000</th>\n",
       "      <th>cafe_count_5000_price_high</th>\n",
       "      <th>big_church_count_5000</th>\n",
       "      <th>church_count_5000</th>\n",
       "      <th>mosque_count_5000</th>\n",
       "      <th>leisure_count_5000</th>\n",
       "      <th>sport_count_5000</th>\n",
       "      <th>market_count_5000</th>\n",
       "      <th>price_doc</th>\n",
       "    </tr>\n",
       "  </thead>\n",
       "  <tbody>\n",
       "    <tr>\n",
       "      <th>0</th>\n",
       "      <td>1</td>\n",
       "      <td>2011-08-20</td>\n",
       "      <td>43</td>\n",
       "      <td>27.0</td>\n",
       "      <td>4.0</td>\n",
       "      <td>NaN</td>\n",
       "      <td>NaN</td>\n",
       "      <td>NaN</td>\n",
       "      <td>NaN</td>\n",
       "      <td>NaN</td>\n",
       "      <td>...</td>\n",
       "      <td>9</td>\n",
       "      <td>4</td>\n",
       "      <td>0</td>\n",
       "      <td>13</td>\n",
       "      <td>22</td>\n",
       "      <td>1</td>\n",
       "      <td>0</td>\n",
       "      <td>52</td>\n",
       "      <td>4</td>\n",
       "      <td>5850000</td>\n",
       "    </tr>\n",
       "    <tr>\n",
       "      <th>1</th>\n",
       "      <td>2</td>\n",
       "      <td>2011-08-23</td>\n",
       "      <td>34</td>\n",
       "      <td>19.0</td>\n",
       "      <td>3.0</td>\n",
       "      <td>NaN</td>\n",
       "      <td>NaN</td>\n",
       "      <td>NaN</td>\n",
       "      <td>NaN</td>\n",
       "      <td>NaN</td>\n",
       "      <td>...</td>\n",
       "      <td>15</td>\n",
       "      <td>3</td>\n",
       "      <td>0</td>\n",
       "      <td>15</td>\n",
       "      <td>29</td>\n",
       "      <td>1</td>\n",
       "      <td>10</td>\n",
       "      <td>66</td>\n",
       "      <td>14</td>\n",
       "      <td>6000000</td>\n",
       "    </tr>\n",
       "    <tr>\n",
       "      <th>2</th>\n",
       "      <td>3</td>\n",
       "      <td>2011-08-27</td>\n",
       "      <td>43</td>\n",
       "      <td>29.0</td>\n",
       "      <td>2.0</td>\n",
       "      <td>NaN</td>\n",
       "      <td>NaN</td>\n",
       "      <td>NaN</td>\n",
       "      <td>NaN</td>\n",
       "      <td>NaN</td>\n",
       "      <td>...</td>\n",
       "      <td>10</td>\n",
       "      <td>3</td>\n",
       "      <td>0</td>\n",
       "      <td>11</td>\n",
       "      <td>27</td>\n",
       "      <td>0</td>\n",
       "      <td>4</td>\n",
       "      <td>67</td>\n",
       "      <td>10</td>\n",
       "      <td>5700000</td>\n",
       "    </tr>\n",
       "    <tr>\n",
       "      <th>3</th>\n",
       "      <td>4</td>\n",
       "      <td>2011-09-01</td>\n",
       "      <td>89</td>\n",
       "      <td>50.0</td>\n",
       "      <td>9.0</td>\n",
       "      <td>NaN</td>\n",
       "      <td>NaN</td>\n",
       "      <td>NaN</td>\n",
       "      <td>NaN</td>\n",
       "      <td>NaN</td>\n",
       "      <td>...</td>\n",
       "      <td>11</td>\n",
       "      <td>2</td>\n",
       "      <td>1</td>\n",
       "      <td>4</td>\n",
       "      <td>4</td>\n",
       "      <td>0</td>\n",
       "      <td>0</td>\n",
       "      <td>26</td>\n",
       "      <td>3</td>\n",
       "      <td>13100000</td>\n",
       "    </tr>\n",
       "    <tr>\n",
       "      <th>4</th>\n",
       "      <td>5</td>\n",
       "      <td>2011-09-05</td>\n",
       "      <td>77</td>\n",
       "      <td>77.0</td>\n",
       "      <td>4.0</td>\n",
       "      <td>NaN</td>\n",
       "      <td>NaN</td>\n",
       "      <td>NaN</td>\n",
       "      <td>NaN</td>\n",
       "      <td>NaN</td>\n",
       "      <td>...</td>\n",
       "      <td>319</td>\n",
       "      <td>108</td>\n",
       "      <td>17</td>\n",
       "      <td>135</td>\n",
       "      <td>236</td>\n",
       "      <td>2</td>\n",
       "      <td>91</td>\n",
       "      <td>195</td>\n",
       "      <td>14</td>\n",
       "      <td>16331452</td>\n",
       "    </tr>\n",
       "  </tbody>\n",
       "</table>\n",
       "<p>5 rows × 292 columns</p>\n",
       "</div>"
      ],
      "text/plain": [
       "   id  timestamp  full_sq  life_sq  floor  max_floor  material  build_year  \\\n",
       "0   1 2011-08-20       43     27.0    4.0        NaN       NaN         NaN   \n",
       "1   2 2011-08-23       34     19.0    3.0        NaN       NaN         NaN   \n",
       "2   3 2011-08-27       43     29.0    2.0        NaN       NaN         NaN   \n",
       "3   4 2011-09-01       89     50.0    9.0        NaN       NaN         NaN   \n",
       "4   5 2011-09-05       77     77.0    4.0        NaN       NaN         NaN   \n",
       "\n",
       "   num_room  kitch_sq    ...      cafe_count_5000_price_2500  \\\n",
       "0       NaN       NaN    ...                               9   \n",
       "1       NaN       NaN    ...                              15   \n",
       "2       NaN       NaN    ...                              10   \n",
       "3       NaN       NaN    ...                              11   \n",
       "4       NaN       NaN    ...                             319   \n",
       "\n",
       "  cafe_count_5000_price_4000 cafe_count_5000_price_high  \\\n",
       "0                          4                          0   \n",
       "1                          3                          0   \n",
       "2                          3                          0   \n",
       "3                          2                          1   \n",
       "4                        108                         17   \n",
       "\n",
       "   big_church_count_5000  church_count_5000  mosque_count_5000  \\\n",
       "0                     13                 22                  1   \n",
       "1                     15                 29                  1   \n",
       "2                     11                 27                  0   \n",
       "3                      4                  4                  0   \n",
       "4                    135                236                  2   \n",
       "\n",
       "   leisure_count_5000  sport_count_5000  market_count_5000  price_doc  \n",
       "0                   0                52                  4    5850000  \n",
       "1                  10                66                 14    6000000  \n",
       "2                   4                67                 10    5700000  \n",
       "3                   0                26                  3   13100000  \n",
       "4                  91               195                 14   16331452  \n",
       "\n",
       "[5 rows x 292 columns]"
      ]
     },
     "execution_count": 17,
     "metadata": {},
     "output_type": "execute_result"
    }
   ],
   "source": [
    "df_train = pd.read_csv(\"../data/train.csv\", parse_dates=['timestamp'])\n",
    "df_test = pd.read_csv(\"../data/test.csv\", parse_dates=['timestamp'])\n",
    "df_macro = pd.read_csv(\"../data/macro.csv\", parse_dates=['timestamp'], usecols=['timestamp'] + macro_cols)\n",
    "\n",
    "df_train.head()"
   ]
  },
  {
   "cell_type": "code",
   "execution_count": 5,
   "metadata": {
    "collapsed": true
   },
   "outputs": [],
   "source": [
    "ax = df_train['price_doc'].hist(bins=50)"
   ]
  },
  {
   "cell_type": "markdown",
   "metadata": {},
   "source": [
    "I want to prevent leakage wherever possible, so I will not be combining my train/test dataframes."
   ]
  },
  {
   "cell_type": "code",
   "execution_count": 22,
   "metadata": {
    "collapsed": false
   },
   "outputs": [],
   "source": [
    "# ylog will be log(1+y), as suggested by https://github.com/dmlc/xgboost/issues/446#issuecomment-135555130\n",
    "\n",
    "X_train = df_train.drop(['id', 'price_doc'], axis = 1)\n",
    "y_train = np.log1p(df_train['price_doc'].values)\n",
    "\n",
    "X_test = df_test.drop(['id'], axis = 1)"
   ]
  },
  {
   "cell_type": "code",
   "execution_count": 23,
   "metadata": {
    "collapsed": true
   },
   "outputs": [],
   "source": [
    "ylog_train_all = np.log1p(df_train['price_doc'].values)\n",
    "id_test = df_test['id']\n",
    "\n",
    "X_train = pd.merge_ordered(X_train, df_macro, on='timestamp', how='left')\n",
    "X_test = pd.merge_ordered(X_test, df_macro, on='timestamp', how='left')"
   ]
  },
  {
   "cell_type": "markdown",
   "metadata": {},
   "source": [
    "# Taking advice from: https://bigdatascientistblog.wordpress.com/2015/10/02/feature-engineering-with-dates-part-1/"
   ]
  },
  {
   "cell_type": "code",
   "execution_count": 35,
   "metadata": {
    "collapsed": false
   },
   "outputs": [],
   "source": [
    "# Adding basic date information\n",
    "# Not including year-month/year-week counts yet\n",
    "X_train['year'] = X_train.timestamp.map(lambda date: date.year)\n",
    "X_train['month'] = X_train.timestamp.map(lambda date: date.month)\n",
    "X_train['day'] = X_train.timestamp.map(lambda date: date.day)\n",
    "X_train['weekday'] = X_train.timestamp.map(lambda date: date.weekday())\n",
    "X_train['week'] = X_train.timestamp.map(lambda date: int(date.strftime('%V')))\n",
    "\n",
    "X_test['year'] = X_test.timestamp.map(lambda date: date.year)\n",
    "X_test['month'] = X_test.timestamp.map(lambda date: date.month)\n",
    "X_test['day'] = X_test.timestamp.map(lambda date: date.day)\n",
    "X_test['weekday'] = X_test.timestamp.map(lambda date: date.weekday())\n",
    "X_test['week'] = X_test.timestamp.map(lambda date: int(date.strftime('%V')))"
   ]
  },
  {
   "cell_type": "code",
   "execution_count": 38,
   "metadata": {
    "collapsed": true
   },
   "outputs": [],
   "source": [
    "# Other feature engineering\n",
    "X_train['rel_floor'] = X_train['floor'] / X_train['max_floor'].astype(float)\n",
    "X_train['rel_kitch_sq'] = X_train['kitch_sq'] / X_train['full_sq'].astype(float)\n",
    "\n",
    "X_test['rel_floor'] = X_test['floor'] / X_test['max_floor'].astype(float)\n",
    "X_test['rel_kitch_sq'] = X_test['kitch_sq'] / X_test['full_sq'].astype(float)"
   ]
  },
  {
   "cell_type": "code",
   "execution_count": 39,
   "metadata": {
    "collapsed": true
   },
   "outputs": [],
   "source": [
    "# Remove timestamp column (may overfit the model in train)\n",
    "X_train.drop(['timestamp'], axis=1, inplace=True)\n",
    "X_test.drop(['timestamp'], axis=1, inplace=True)"
   ]
  },
  {
   "cell_type": "code",
   "execution_count": 78,
   "metadata": {
    "collapsed": true
   },
   "outputs": [],
   "source": [
    "# Deal with categorical values\n",
    "X_train_numeric = X_train.select_dtypes(exclude=['object']).copy()\n",
    "X_train_obj = X_train.select_dtypes(include=['object']).copy()\n",
    "\n",
    "X_test_numeric = X_test.select_dtypes(exclude=['object']).copy()\n",
    "X_test_obj = X_test.select_dtypes(include=['object']).copy()"
   ]
  },
  {
   "cell_type": "code",
   "execution_count": 79,
   "metadata": {
    "collapsed": true
   },
   "outputs": [],
   "source": [
    "# Drop Infinite Values\n",
    "\n",
    "X_train_numeric = X_train_numeric.replace([np.inf, -np.inf], np.nan)\n",
    "X_test_numeric = X_test_numeric.replace([np.inf, -np.inf], np.nan)"
   ]
  },
  {
   "cell_type": "code",
   "execution_count": 80,
   "metadata": {
    "collapsed": false
   },
   "outputs": [],
   "source": [
    "# Could also experiment with a scaling and imputing strategies\n",
    "imputer = skp.Imputer(strategy='median')\n",
    "scaler = skp.StandardScaler()\n",
    "\n",
    "X_train_numeric[:] = imputer.fit_transform(X_train_numeric)\n",
    "X_test_numeric[:] = imputer.transform(X_test_numeric)"
   ]
  },
  {
   "cell_type": "code",
   "execution_count": 81,
   "metadata": {
    "collapsed": false
   },
   "outputs": [],
   "source": [
    "X_train_numeric[:] = scaler.fit_transform(X_train_numeric)\n",
    "X_test_numeric[:] = scaler.fit_transform(X_test_numeric)"
   ]
  },
  {
   "cell_type": "code",
   "execution_count": 92,
   "metadata": {
    "collapsed": false
   },
   "outputs": [
    {
     "name": "stdout",
     "output_type": "stream",
     "text": [
      "(30471, 294)\n",
      "(7662, 294)\n"
     ]
    }
   ],
   "source": [
    "print(X_train_numeric.shape)\n",
    "print(X_test_numeric.shape)"
   ]
  },
  {
   "cell_type": "code",
   "execution_count": 94,
   "metadata": {
    "collapsed": false,
    "scrolled": false
   },
   "outputs": [],
   "source": [
    "#Concat to get all categories\n",
    "\n",
    "X_all_obj = pd.concat([X_train_obj, X_test_obj])\n",
    "\n",
    "X_all_dummies = pd.get_dummies(X_all_obj, drop_first = True)\n",
    "\n",
    "# Split back\n",
    "X_train_obj = X_all_dummies.iloc[:X_train_obj.shape[0], :]\n",
    "X_test_obj = X_all_dummies.iloc[X_train.shape[0]:, :]"
   ]
  },
  {
   "cell_type": "code",
   "execution_count": 95,
   "metadata": {
    "collapsed": true
   },
   "outputs": [],
   "source": [
    "X_train = pd.concat([X_train_numeric, X_train_obj], axis=1)\n",
    "X_test = pd.concat([X_test_numeric, X_test_obj], axis=1)"
   ]
  },
  {
   "cell_type": "code",
   "execution_count": 169,
   "metadata": {
    "collapsed": false
   },
   "outputs": [],
   "source": [
    "xgb_params = {\n",
    "    'learning_rate': 0.05,\n",
    "    'max_depth': 6,\n",
    "    'subsample': 0.7,\n",
    "    'colsample_bytree': 0.7,\n",
    "    'objective': 'reg:linear',\n",
    "    'silent': 1,\n",
    "    'n_estimators': 400,\n",
    "    'nthread': -1,\n",
    "    'reg_alpha': 16\n",
    "}\n",
    "\n",
    "boosted_trees = xgb.XGBRegressor(**xgb_params)"
   ]
  },
  {
   "cell_type": "code",
   "execution_count": 144,
   "metadata": {
    "collapsed": false
   },
   "outputs": [],
   "source": [
    "X_early_train, X_valid, y_early_train, y_valid = train_test_split(X_train, y_train, test_size= 0.2)"
   ]
  },
  {
   "cell_type": "code",
   "execution_count": 145,
   "metadata": {
    "collapsed": false
   },
   "outputs": [],
   "source": [
    "cross_val_score(boosted_trees, X_train, y_train, cv = 5).mean()"
   ]
  },
  {
   "cell_type": "code",
   "execution_count": 165,
   "metadata": {
    "collapsed": false
   },
   "outputs": [
    {
     "name": "stdout",
     "output_type": "stream",
     "text": [
      "[0]\tvalidation_0-rmse:14.3621\n",
      "Will train until validation_0-rmse hasn't improved in 20 rounds.\n",
      "[1]\tvalidation_0-rmse:13.6451\n",
      "[2]\tvalidation_0-rmse:12.9637\n",
      "[3]\tvalidation_0-rmse:12.3167\n",
      "[4]\tvalidation_0-rmse:11.7021\n",
      "[5]\tvalidation_0-rmse:11.1182\n",
      "[6]\tvalidation_0-rmse:10.5638\n",
      "[7]\tvalidation_0-rmse:10.0371\n",
      "[8]\tvalidation_0-rmse:9.53655\n",
      "[9]\tvalidation_0-rmse:9.06129\n",
      "[10]\tvalidation_0-rmse:8.60983\n",
      "[11]\tvalidation_0-rmse:8.18107\n",
      "[12]\tvalidation_0-rmse:7.77393\n",
      "[13]\tvalidation_0-rmse:7.3872\n",
      "[14]\tvalidation_0-rmse:7.01994\n",
      "[15]\tvalidation_0-rmse:6.67126\n",
      "[16]\tvalidation_0-rmse:6.3398\n",
      "[17]\tvalidation_0-rmse:6.02529\n",
      "[18]\tvalidation_0-rmse:5.72649\n",
      "[19]\tvalidation_0-rmse:5.44276\n",
      "[20]\tvalidation_0-rmse:5.17346\n",
      "[21]\tvalidation_0-rmse:4.91747\n",
      "[22]\tvalidation_0-rmse:4.67464\n",
      "[23]\tvalidation_0-rmse:4.44405\n",
      "[24]\tvalidation_0-rmse:4.22515\n",
      "[25]\tvalidation_0-rmse:4.01744\n",
      "[26]\tvalidation_0-rmse:3.82013\n",
      "[27]\tvalidation_0-rmse:3.63309\n",
      "[28]\tvalidation_0-rmse:3.45543\n",
      "[29]\tvalidation_0-rmse:3.28677\n",
      "[30]\tvalidation_0-rmse:3.12659\n",
      "[31]\tvalidation_0-rmse:2.97477\n",
      "[32]\tvalidation_0-rmse:2.83082\n",
      "[33]\tvalidation_0-rmse:2.69416\n",
      "[34]\tvalidation_0-rmse:2.56454\n",
      "[35]\tvalidation_0-rmse:2.44186\n",
      "[36]\tvalidation_0-rmse:2.32531\n",
      "[37]\tvalidation_0-rmse:2.21484\n",
      "[38]\tvalidation_0-rmse:2.11026\n",
      "[39]\tvalidation_0-rmse:2.01131\n",
      "[40]\tvalidation_0-rmse:1.91761\n",
      "[41]\tvalidation_0-rmse:1.82881\n",
      "[42]\tvalidation_0-rmse:1.74466\n",
      "[43]\tvalidation_0-rmse:1.66511\n",
      "[44]\tvalidation_0-rmse:1.58977\n",
      "[45]\tvalidation_0-rmse:1.51839\n",
      "[46]\tvalidation_0-rmse:1.45096\n",
      "[47]\tvalidation_0-rmse:1.38717\n",
      "[48]\tvalidation_0-rmse:1.32691\n",
      "[49]\tvalidation_0-rmse:1.27024\n",
      "[50]\tvalidation_0-rmse:1.21678\n",
      "[51]\tvalidation_0-rmse:1.16636\n",
      "[52]\tvalidation_0-rmse:1.11876\n",
      "[53]\tvalidation_0-rmse:1.07377\n",
      "[54]\tvalidation_0-rmse:1.03158\n",
      "[55]\tvalidation_0-rmse:0.991794\n",
      "[56]\tvalidation_0-rmse:0.954704\n",
      "[57]\tvalidation_0-rmse:0.919813\n",
      "[58]\tvalidation_0-rmse:0.886876\n",
      "[59]\tvalidation_0-rmse:0.856124\n",
      "[60]\tvalidation_0-rmse:0.827493\n",
      "[61]\tvalidation_0-rmse:0.800486\n",
      "[62]\tvalidation_0-rmse:0.775446\n",
      "[63]\tvalidation_0-rmse:0.752062\n",
      "[64]\tvalidation_0-rmse:0.730176\n",
      "[65]\tvalidation_0-rmse:0.709909\n",
      "[66]\tvalidation_0-rmse:0.691065\n",
      "[67]\tvalidation_0-rmse:0.6737\n",
      "[68]\tvalidation_0-rmse:0.657623\n",
      "[69]\tvalidation_0-rmse:0.642624\n",
      "[70]\tvalidation_0-rmse:0.628789\n",
      "[71]\tvalidation_0-rmse:0.615939\n",
      "[72]\tvalidation_0-rmse:0.603979\n",
      "[73]\tvalidation_0-rmse:0.592966\n",
      "[74]\tvalidation_0-rmse:0.582999\n",
      "[75]\tvalidation_0-rmse:0.573531\n",
      "[76]\tvalidation_0-rmse:0.564981\n",
      "[77]\tvalidation_0-rmse:0.557018\n",
      "[78]\tvalidation_0-rmse:0.549727\n",
      "[79]\tvalidation_0-rmse:0.543025\n",
      "[80]\tvalidation_0-rmse:0.536746\n",
      "[81]\tvalidation_0-rmse:0.530992\n",
      "[82]\tvalidation_0-rmse:0.525876\n",
      "[83]\tvalidation_0-rmse:0.520996\n",
      "[84]\tvalidation_0-rmse:0.516559\n",
      "[85]\tvalidation_0-rmse:0.512468\n",
      "[86]\tvalidation_0-rmse:0.508764\n",
      "[87]\tvalidation_0-rmse:0.5053\n",
      "[88]\tvalidation_0-rmse:0.502159\n",
      "[89]\tvalidation_0-rmse:0.499197\n",
      "[90]\tvalidation_0-rmse:0.496511\n",
      "[91]\tvalidation_0-rmse:0.494139\n",
      "[92]\tvalidation_0-rmse:0.491871\n",
      "[93]\tvalidation_0-rmse:0.489813\n",
      "[94]\tvalidation_0-rmse:0.487918\n",
      "[95]\tvalidation_0-rmse:0.486257\n",
      "[96]\tvalidation_0-rmse:0.484615\n",
      "[97]\tvalidation_0-rmse:0.483142\n",
      "[98]\tvalidation_0-rmse:0.481817\n",
      "[99]\tvalidation_0-rmse:0.480565\n",
      "[100]\tvalidation_0-rmse:0.479238\n",
      "[101]\tvalidation_0-rmse:0.478197\n",
      "[102]\tvalidation_0-rmse:0.477154\n",
      "[103]\tvalidation_0-rmse:0.476054\n",
      "[104]\tvalidation_0-rmse:0.475309\n",
      "[105]\tvalidation_0-rmse:0.474542\n",
      "[106]\tvalidation_0-rmse:0.473776\n",
      "[107]\tvalidation_0-rmse:0.472939\n",
      "[108]\tvalidation_0-rmse:0.472184\n",
      "[109]\tvalidation_0-rmse:0.471462\n",
      "[110]\tvalidation_0-rmse:0.470879\n",
      "[111]\tvalidation_0-rmse:0.470358\n",
      "[112]\tvalidation_0-rmse:0.469823\n",
      "[113]\tvalidation_0-rmse:0.469239\n",
      "[114]\tvalidation_0-rmse:0.468863\n",
      "[115]\tvalidation_0-rmse:0.468248\n",
      "[116]\tvalidation_0-rmse:0.467856\n",
      "[117]\tvalidation_0-rmse:0.46732\n",
      "[118]\tvalidation_0-rmse:0.466853\n",
      "[119]\tvalidation_0-rmse:0.466311\n",
      "[120]\tvalidation_0-rmse:0.46607\n",
      "[121]\tvalidation_0-rmse:0.465712\n",
      "[122]\tvalidation_0-rmse:0.465244\n",
      "[123]\tvalidation_0-rmse:0.464851\n",
      "[124]\tvalidation_0-rmse:0.464611\n",
      "[125]\tvalidation_0-rmse:0.464417\n",
      "[126]\tvalidation_0-rmse:0.464064\n",
      "[127]\tvalidation_0-rmse:0.463805\n",
      "[128]\tvalidation_0-rmse:0.463617\n",
      "[129]\tvalidation_0-rmse:0.46327\n",
      "[130]\tvalidation_0-rmse:0.463076\n",
      "[131]\tvalidation_0-rmse:0.462857\n",
      "[132]\tvalidation_0-rmse:0.462692\n",
      "[133]\tvalidation_0-rmse:0.462405\n",
      "[134]\tvalidation_0-rmse:0.46229\n",
      "[135]\tvalidation_0-rmse:0.461979\n",
      "[136]\tvalidation_0-rmse:0.46184\n",
      "[137]\tvalidation_0-rmse:0.461677\n",
      "[138]\tvalidation_0-rmse:0.461388\n",
      "[139]\tvalidation_0-rmse:0.461115\n",
      "[140]\tvalidation_0-rmse:0.460976\n",
      "[141]\tvalidation_0-rmse:0.460777\n",
      "[142]\tvalidation_0-rmse:0.46056\n",
      "[143]\tvalidation_0-rmse:0.460449\n",
      "[144]\tvalidation_0-rmse:0.460357\n",
      "[145]\tvalidation_0-rmse:0.460232\n",
      "[146]\tvalidation_0-rmse:0.460129\n",
      "[147]\tvalidation_0-rmse:0.459988\n",
      "[148]\tvalidation_0-rmse:0.45993\n",
      "[149]\tvalidation_0-rmse:0.459705\n",
      "[150]\tvalidation_0-rmse:0.459627\n",
      "[151]\tvalidation_0-rmse:0.459533\n",
      "[152]\tvalidation_0-rmse:0.459415\n",
      "[153]\tvalidation_0-rmse:0.459301\n",
      "[154]\tvalidation_0-rmse:0.459204\n",
      "[155]\tvalidation_0-rmse:0.459143\n",
      "[156]\tvalidation_0-rmse:0.4591\n",
      "[157]\tvalidation_0-rmse:0.459048\n",
      "[158]\tvalidation_0-rmse:0.458996\n",
      "[159]\tvalidation_0-rmse:0.458903\n",
      "[160]\tvalidation_0-rmse:0.458826\n",
      "[161]\tvalidation_0-rmse:0.458687\n",
      "[162]\tvalidation_0-rmse:0.458527\n",
      "[163]\tvalidation_0-rmse:0.458427\n",
      "[164]\tvalidation_0-rmse:0.458356\n",
      "[165]\tvalidation_0-rmse:0.458258\n",
      "[166]\tvalidation_0-rmse:0.458153\n",
      "[167]\tvalidation_0-rmse:0.458111\n",
      "[168]\tvalidation_0-rmse:0.458036\n",
      "[169]\tvalidation_0-rmse:0.457894\n",
      "[170]\tvalidation_0-rmse:0.457806\n",
      "[171]\tvalidation_0-rmse:0.457721\n",
      "[172]\tvalidation_0-rmse:0.457685\n",
      "[173]\tvalidation_0-rmse:0.457627\n",
      "[174]\tvalidation_0-rmse:0.457614\n",
      "[175]\tvalidation_0-rmse:0.457491\n",
      "[176]\tvalidation_0-rmse:0.457372\n",
      "[177]\tvalidation_0-rmse:0.457337\n",
      "[178]\tvalidation_0-rmse:0.457324\n",
      "[179]\tvalidation_0-rmse:0.457239\n",
      "[180]\tvalidation_0-rmse:0.457206\n",
      "[181]\tvalidation_0-rmse:0.457119\n",
      "[182]\tvalidation_0-rmse:0.457108\n",
      "[183]\tvalidation_0-rmse:0.45706\n",
      "[184]\tvalidation_0-rmse:0.456964\n",
      "[185]\tvalidation_0-rmse:0.456906\n",
      "[186]\tvalidation_0-rmse:0.456823\n",
      "[187]\tvalidation_0-rmse:0.456757\n",
      "[188]\tvalidation_0-rmse:0.456668\n",
      "[189]\tvalidation_0-rmse:0.456677\n",
      "[190]\tvalidation_0-rmse:0.456698\n",
      "[191]\tvalidation_0-rmse:0.456569\n",
      "[192]\tvalidation_0-rmse:0.456555\n",
      "[193]\tvalidation_0-rmse:0.45652\n",
      "[194]\tvalidation_0-rmse:0.456461\n",
      "[195]\tvalidation_0-rmse:0.456397\n",
      "[196]\tvalidation_0-rmse:0.456336\n",
      "[197]\tvalidation_0-rmse:0.456338\n",
      "[198]\tvalidation_0-rmse:0.456329\n",
      "[199]\tvalidation_0-rmse:0.45631\n",
      "[200]\tvalidation_0-rmse:0.456303\n",
      "[201]\tvalidation_0-rmse:0.456253\n",
      "[202]\tvalidation_0-rmse:0.456083\n",
      "[203]\tvalidation_0-rmse:0.45606\n",
      "[204]\tvalidation_0-rmse:0.455992\n",
      "[205]\tvalidation_0-rmse:0.455967\n",
      "[206]\tvalidation_0-rmse:0.455794\n",
      "[207]\tvalidation_0-rmse:0.455746\n",
      "[208]\tvalidation_0-rmse:0.455762\n",
      "[209]\tvalidation_0-rmse:0.455777\n",
      "[210]\tvalidation_0-rmse:0.455772\n",
      "[211]\tvalidation_0-rmse:0.455692\n",
      "[212]\tvalidation_0-rmse:0.455608\n",
      "[213]\tvalidation_0-rmse:0.455578\n",
      "[214]\tvalidation_0-rmse:0.455445\n",
      "[215]\tvalidation_0-rmse:0.455433\n",
      "[216]\tvalidation_0-rmse:0.455395\n",
      "[217]\tvalidation_0-rmse:0.455388\n",
      "[218]\tvalidation_0-rmse:0.45535\n",
      "[219]\tvalidation_0-rmse:0.455328\n",
      "[220]\tvalidation_0-rmse:0.45521\n",
      "[221]\tvalidation_0-rmse:0.455174\n",
      "[222]\tvalidation_0-rmse:0.455093\n",
      "[223]\tvalidation_0-rmse:0.455071\n",
      "[224]\tvalidation_0-rmse:0.455082\n",
      "[225]\tvalidation_0-rmse:0.455067\n",
      "[226]\tvalidation_0-rmse:0.455048\n",
      "[227]\tvalidation_0-rmse:0.455044\n",
      "[228]\tvalidation_0-rmse:0.454973\n",
      "[229]\tvalidation_0-rmse:0.454966\n",
      "[230]\tvalidation_0-rmse:0.454955\n",
      "[231]\tvalidation_0-rmse:0.454954\n",
      "[232]\tvalidation_0-rmse:0.454934\n",
      "[233]\tvalidation_0-rmse:0.454828\n",
      "[234]\tvalidation_0-rmse:0.454809\n",
      "[235]\tvalidation_0-rmse:0.454789\n",
      "[236]\tvalidation_0-rmse:0.454787\n",
      "[237]\tvalidation_0-rmse:0.454771\n",
      "[238]\tvalidation_0-rmse:0.454753\n",
      "[239]\tvalidation_0-rmse:0.454673\n",
      "[240]\tvalidation_0-rmse:0.454681\n",
      "[241]\tvalidation_0-rmse:0.454689\n",
      "[242]\tvalidation_0-rmse:0.454672\n",
      "[243]\tvalidation_0-rmse:0.454686\n",
      "[244]\tvalidation_0-rmse:0.454714\n",
      "[245]\tvalidation_0-rmse:0.454682\n",
      "[246]\tvalidation_0-rmse:0.454691\n",
      "[247]\tvalidation_0-rmse:0.45467\n",
      "[248]\tvalidation_0-rmse:0.454619\n",
      "[249]\tvalidation_0-rmse:0.454549\n",
      "[250]\tvalidation_0-rmse:0.454506\n",
      "[251]\tvalidation_0-rmse:0.45451\n",
      "[252]\tvalidation_0-rmse:0.454484\n",
      "[253]\tvalidation_0-rmse:0.454512\n",
      "[254]\tvalidation_0-rmse:0.454445\n",
      "[255]\tvalidation_0-rmse:0.454394\n",
      "[256]\tvalidation_0-rmse:0.454402\n",
      "[257]\tvalidation_0-rmse:0.454373\n",
      "[258]\tvalidation_0-rmse:0.454432\n",
      "[259]\tvalidation_0-rmse:0.454416\n",
      "[260]\tvalidation_0-rmse:0.454392\n",
      "[261]\tvalidation_0-rmse:0.454315\n",
      "[262]\tvalidation_0-rmse:0.454229\n",
      "[263]\tvalidation_0-rmse:0.45423\n",
      "[264]\tvalidation_0-rmse:0.454185\n",
      "[265]\tvalidation_0-rmse:0.454197\n",
      "[266]\tvalidation_0-rmse:0.454159\n",
      "[267]\tvalidation_0-rmse:0.454129\n",
      "[268]\tvalidation_0-rmse:0.454144\n",
      "[269]\tvalidation_0-rmse:0.45415\n",
      "[270]\tvalidation_0-rmse:0.45415\n",
      "[271]\tvalidation_0-rmse:0.45414\n",
      "[272]\tvalidation_0-rmse:0.454209\n",
      "[273]\tvalidation_0-rmse:0.454195\n",
      "[274]\tvalidation_0-rmse:0.454201\n",
      "[275]\tvalidation_0-rmse:0.454114\n",
      "[276]\tvalidation_0-rmse:0.45409\n",
      "[277]\tvalidation_0-rmse:0.454064\n",
      "[278]\tvalidation_0-rmse:0.454084\n",
      "[279]\tvalidation_0-rmse:0.454101\n",
      "[280]\tvalidation_0-rmse:0.454045\n",
      "[281]\tvalidation_0-rmse:0.454052\n",
      "[282]\tvalidation_0-rmse:0.454033\n",
      "[283]\tvalidation_0-rmse:0.454024\n",
      "[284]\tvalidation_0-rmse:0.454022\n",
      "[285]\tvalidation_0-rmse:0.454052\n",
      "[286]\tvalidation_0-rmse:0.454016\n",
      "[287]\tvalidation_0-rmse:0.454059\n",
      "[288]\tvalidation_0-rmse:0.454088\n",
      "[289]\tvalidation_0-rmse:0.454107\n",
      "[290]\tvalidation_0-rmse:0.454082\n",
      "[291]\tvalidation_0-rmse:0.454019\n",
      "[292]\tvalidation_0-rmse:0.454023\n",
      "[293]\tvalidation_0-rmse:0.454028\n",
      "[294]\tvalidation_0-rmse:0.453992\n",
      "[295]\tvalidation_0-rmse:0.453963\n",
      "[296]\tvalidation_0-rmse:0.453996\n",
      "[297]\tvalidation_0-rmse:0.453997\n",
      "[298]\tvalidation_0-rmse:0.453944\n",
      "[299]\tvalidation_0-rmse:0.453946\n",
      "[300]\tvalidation_0-rmse:0.453902\n",
      "[301]\tvalidation_0-rmse:0.45396\n",
      "[302]\tvalidation_0-rmse:0.45392\n",
      "[303]\tvalidation_0-rmse:0.453937\n",
      "[304]\tvalidation_0-rmse:0.45389\n",
      "[305]\tvalidation_0-rmse:0.453855\n",
      "[306]\tvalidation_0-rmse:0.453863\n",
      "[307]\tvalidation_0-rmse:0.453894\n",
      "[308]\tvalidation_0-rmse:0.453826\n",
      "[309]\tvalidation_0-rmse:0.453769\n",
      "[310]\tvalidation_0-rmse:0.453747\n",
      "[311]\tvalidation_0-rmse:0.453767\n",
      "[312]\tvalidation_0-rmse:0.453728\n",
      "[313]\tvalidation_0-rmse:0.453723\n",
      "[314]\tvalidation_0-rmse:0.45371\n",
      "[315]\tvalidation_0-rmse:0.453716\n",
      "[316]\tvalidation_0-rmse:0.453689\n",
      "[317]\tvalidation_0-rmse:0.45368\n",
      "[318]\tvalidation_0-rmse:0.453661\n",
      "[319]\tvalidation_0-rmse:0.453652\n",
      "[320]\tvalidation_0-rmse:0.45367\n",
      "[321]\tvalidation_0-rmse:0.45361\n",
      "[322]\tvalidation_0-rmse:0.453637\n",
      "[323]\tvalidation_0-rmse:0.453668\n",
      "[324]\tvalidation_0-rmse:0.453635\n",
      "[325]\tvalidation_0-rmse:0.453656\n",
      "[326]\tvalidation_0-rmse:0.453631\n",
      "[327]\tvalidation_0-rmse:0.453574\n",
      "[328]\tvalidation_0-rmse:0.453586\n",
      "[329]\tvalidation_0-rmse:0.453592\n",
      "[330]\tvalidation_0-rmse:0.453569\n",
      "[331]\tvalidation_0-rmse:0.453564\n",
      "[332]\tvalidation_0-rmse:0.453554\n",
      "[333]\tvalidation_0-rmse:0.453552\n",
      "[334]\tvalidation_0-rmse:0.453561\n",
      "[335]\tvalidation_0-rmse:0.453567\n",
      "[336]\tvalidation_0-rmse:0.453547\n",
      "[337]\tvalidation_0-rmse:0.453561\n",
      "[338]\tvalidation_0-rmse:0.453555\n",
      "[339]\tvalidation_0-rmse:0.453535\n",
      "[340]\tvalidation_0-rmse:0.45358\n",
      "[341]\tvalidation_0-rmse:0.453597\n",
      "[342]\tvalidation_0-rmse:0.453602\n",
      "[343]\tvalidation_0-rmse:0.453598\n",
      "[344]\tvalidation_0-rmse:0.453555\n",
      "[345]\tvalidation_0-rmse:0.453529\n",
      "[346]\tvalidation_0-rmse:0.45358\n",
      "[347]\tvalidation_0-rmse:0.45357\n",
      "[348]\tvalidation_0-rmse:0.453563\n",
      "[349]\tvalidation_0-rmse:0.453596\n",
      "[350]\tvalidation_0-rmse:0.453583\n",
      "[351]\tvalidation_0-rmse:0.453572\n",
      "[352]\tvalidation_0-rmse:0.453572\n",
      "[353]\tvalidation_0-rmse:0.453598\n",
      "[354]\tvalidation_0-rmse:0.453588\n",
      "[355]\tvalidation_0-rmse:0.453623\n",
      "[356]\tvalidation_0-rmse:0.453587\n",
      "[357]\tvalidation_0-rmse:0.453571\n",
      "[358]\tvalidation_0-rmse:0.453555\n",
      "[359]\tvalidation_0-rmse:0.453585\n",
      "[360]\tvalidation_0-rmse:0.453602\n",
      "[361]\tvalidation_0-rmse:0.453608\n",
      "[362]\tvalidation_0-rmse:0.453605\n",
      "[363]\tvalidation_0-rmse:0.453643\n",
      "[364]\tvalidation_0-rmse:0.453679\n",
      "[365]\tvalidation_0-rmse:0.45367\n",
      "Stopping. Best iteration:\n",
      "[345]\tvalidation_0-rmse:0.453529\n",
      "\n"
     ]
    },
    {
     "data": {
      "text/plain": [
       "XGBRegressor(base_score=0.5, colsample_bylevel=1, colsample_bytree=0.7,\n",
       "       gamma=0, learning_rate=0.05, max_delta_step=0, max_depth=6,\n",
       "       min_child_weight=1, missing=None, n_estimators=1000, nthread=-1,\n",
       "       objective='reg:linear', reg_alpha=16, reg_lambda=1,\n",
       "       scale_pos_weight=1, seed=0, silent=1, subsample=0.7)"
      ]
     },
     "execution_count": 165,
     "metadata": {},
     "output_type": "execute_result"
    }
   ],
   "source": [
    "boosted_trees.fit(X=X_early_train, y=y_early_train, early_stopping_rounds=20, eval_set=[(X_valid, y_valid)])"
   ]
  },
  {
   "cell_type": "code",
   "execution_count": 170,
   "metadata": {
    "collapsed": false
   },
   "outputs": [
    {
     "data": {
      "text/plain": [
       "XGBRegressor(base_score=0.5, colsample_bylevel=1, colsample_bytree=0.7,\n",
       "       gamma=0, learning_rate=0.05, max_delta_step=0, max_depth=6,\n",
       "       min_child_weight=1, missing=None, n_estimators=400, nthread=-1,\n",
       "       objective='reg:linear', reg_alpha=16, reg_lambda=1,\n",
       "       scale_pos_weight=1, seed=0, silent=1, subsample=0.7)"
      ]
     },
     "execution_count": 170,
     "metadata": {},
     "output_type": "execute_result"
    }
   ],
   "source": [
    "boosted_trees.fit(X=X_train, y=y_train)"
   ]
  },
  {
   "cell_type": "code",
   "execution_count": 171,
   "metadata": {
    "collapsed": false
   },
   "outputs": [],
   "source": [
    "y_test = boosted_trees.predict(X_test)"
   ]
  },
  {
   "cell_type": "code",
   "execution_count": 172,
   "metadata": {
    "collapsed": false
   },
   "outputs": [],
   "source": [
    "y_test = np.exp(y_test) - 1"
   ]
  },
  {
   "cell_type": "code",
   "execution_count": 173,
   "metadata": {
    "collapsed": true
   },
   "outputs": [],
   "source": [
    "df_sub = pd.DataFrame({'id': id_test, 'price_doc': y_test})\n",
    "\n",
    "df_sub.to_csv('second_submission.csv', index=False)"
   ]
  },
  {
   "cell_type": "code",
   "execution_count": null,
   "metadata": {
    "collapsed": true
   },
   "outputs": [],
   "source": []
  }
 ],
 "metadata": {
  "kernelspec": {
   "display_name": "Python 3",
   "language": "python",
   "name": "python3"
  },
  "language_info": {
   "codemirror_mode": {
    "name": "ipython",
    "version": 3
   },
   "file_extension": ".py",
   "mimetype": "text/x-python",
   "name": "python",
   "nbconvert_exporter": "python",
   "pygments_lexer": "ipython3",
   "version": "3.6.0"
  }
 },
 "nbformat": 4,
 "nbformat_minor": 0
}
